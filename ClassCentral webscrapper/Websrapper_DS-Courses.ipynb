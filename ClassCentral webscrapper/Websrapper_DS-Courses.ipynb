{
 "metadata": {
  "language_info": {
   "codemirror_mode": {
    "name": "ipython",
    "version": 3
   },
   "file_extension": ".py",
   "mimetype": "text/x-python",
   "name": "python",
   "nbconvert_exporter": "python",
   "pygments_lexer": "ipython3",
   "version": "3.8.5"
  },
  "orig_nbformat": 2,
  "kernelspec": {
   "name": "python385jvsc74a57bd0eeacb19b8c1b45cb328e8eee823647b0fd4636f8d11818d0abc226d4d37e863a",
   "display_name": "Python 3.8.5 64-bit ('base': conda)"
  }
 },
 "nbformat": 4,
 "nbformat_minor": 2,
 "cells": [
  {
   "source": [
    "**Class Central Webscrapper**"
   ],
   "cell_type": "markdown",
   "metadata": {}
  },
  {
   "source": [
    "**Step-1 Libraries**"
   ],
   "cell_type": "markdown",
   "metadata": {}
  },
  {
   "cell_type": "code",
   "execution_count": 3,
   "metadata": {},
   "outputs": [
    {
     "output_type": "stream",
     "name": "stdout",
     "text": [
      "Requirement already satisfied: beautifulsoup4 in d:\\anacondainstallation\\lib\\site-packages (4.9.3)\nRequirement already satisfied: soupsieve>1.2; python_version >= \"3.0\" in d:\\anacondainstallation\\lib\\site-packages (from beautifulsoup4) (2.0.1)\nNote: you may need to restart the kernel to use updated packages.\n"
     ]
    }
   ],
   "source": [
    "pip install beautifulsoup4"
   ]
  },
  {
   "cell_type": "code",
   "execution_count": 4,
   "metadata": {},
   "outputs": [
    {
     "output_type": "stream",
     "name": "stdout",
     "text": [
      "Requirement already up-to-date: selenium in d:\\anacondainstallation\\lib\\site-packages (3.141.0)\nRequirement already satisfied, skipping upgrade: urllib3 in d:\\anacondainstallation\\lib\\site-packages (from selenium) (1.25.11)\nNote: you may need to restart the kernel to use updated packages.\n"
     ]
    }
   ],
   "source": [
    "pip install -U selenium"
   ]
  },
  {
   "cell_type": "code",
   "execution_count": 5,
   "metadata": {},
   "outputs": [
    {
     "output_type": "stream",
     "name": "stdout",
     "text": [
      "Requirement already satisfied: webdriver-manager in c:\\users\\sarth\\appdata\\roaming\\python\\python38\\site-packages (3.4.0)\nRequirement already satisfied: configparser in c:\\users\\sarth\\appdata\\roaming\\python\\python38\\site-packages (from webdriver-manager) (5.0.2)\nRequirement already satisfied: crayons in c:\\users\\sarth\\appdata\\roaming\\python\\python38\\site-packages (from webdriver-manager) (0.4.0)\nRequirement already satisfied: requests in d:\\anacondainstallation\\lib\\site-packages (from webdriver-manager) (2.24.0)\nRequirement already satisfied: colorama in d:\\anacondainstallation\\lib\\site-packages (from crayons->webdriver-manager) (0.4.4)\nRequirement already satisfied: chardet<4,>=3.0.2 in d:\\anacondainstallation\\lib\\site-packages (from requests->webdriver-manager) (3.0.4)\nRequirement already satisfied: certifi>=2017.4.17 in d:\\anacondainstallation\\lib\\site-packages (from requests->webdriver-manager) (2020.6.20)\nRequirement already satisfied: urllib3!=1.25.0,!=1.25.1,<1.26,>=1.21.1 in d:\\anacondainstallation\\lib\\site-packages (from requests->webdriver-manager) (1.25.11)\nRequirement already satisfied: idna<3,>=2.5 in d:\\anacondainstallation\\lib\\site-packages (from requests->webdriver-manager) (2.10)\nNote: you may need to restart the kernel to use updated packages.\n"
     ]
    }
   ],
   "source": [
    "pip install webdriver-manager --user"
   ]
  },
  {
   "cell_type": "code",
   "execution_count": 6,
   "metadata": {},
   "outputs": [],
   "source": [
    "from selenium import webdriver\n",
    "from bs4 import BeautifulSoup\n",
    "import pandas as pd"
   ]
  },
  {
   "cell_type": "code",
   "execution_count": 7,
   "metadata": {},
   "outputs": [
    {
     "output_type": "stream",
     "name": "stderr",
     "text": [
      "\n",
      "\n",
      "====== WebDriver manager ======\n",
      "Current google-chrome version is 89.0.4389\n",
      "Get LATEST driver version for 89.0.4389\n",
      "Driver [C:\\Users\\sarth\\.wdm\\drivers\\chromedriver\\win32\\89.0.4389.23\\chromedriver.exe] found in cache\n"
     ]
    }
   ],
   "source": [
    "from selenium import webdriver\n",
    "from webdriver_manager.chrome import ChromeDriverManager\n",
    "\n",
    "driver = webdriver.Chrome(ChromeDriverManager().install())"
   ]
  },
  {
   "source": [
    "**Step-2 Access the Web Page**"
   ],
   "cell_type": "markdown",
   "metadata": {}
  },
  {
   "cell_type": "code",
   "execution_count": 8,
   "metadata": {},
   "outputs": [],
   "source": [
    "driver.get('https://www.classcentral.com/subject/data-science')"
   ]
  },
  {
   "source": [
    "**Step-3 Data**"
   ],
   "cell_type": "markdown",
   "metadata": {}
  },
  {
   "cell_type": "code",
   "execution_count": 9,
   "metadata": {},
   "outputs": [],
   "source": [
    "Course = []\n",
    "Duration = []\n",
    "Start_Date = []\n",
    "Offered_By = []\n",
    "No_of_reviews = []\n",
    "Rating = []"
   ]
  },
  {
   "cell_type": "code",
   "execution_count": 10,
   "metadata": {},
   "outputs": [],
   "source": [
    "content = driver.page_source\n",
    "soup = BeautifulSoup(content)"
   ]
  },
  {
   "source": [
    "**Step-4 Methods** : These 2 methods will be used to strip the data off unnecessary tags and clean it."
   ],
   "cell_type": "markdown",
   "metadata": {}
  },
  {
   "cell_type": "code",
   "execution_count": 11,
   "metadata": {},
   "outputs": [],
   "source": [
    "def find_2nd(string , substring):\n",
    "    return string.find(substring , string.find(substring) + 1)\n",
    "\n",
    "def find_1st(string , substring):\n",
    "    return string.find(substring , string.find(substring))"
   ]
  },
  {
   "source": [
    "**Step-5 Scrape Course Titles**"
   ],
   "cell_type": "markdown",
   "metadata": {}
  },
  {
   "cell_type": "code",
   "execution_count": 12,
   "metadata": {},
   "outputs": [
    {
     "output_type": "stream",
     "name": "stdout",
     "text": [
      "R Programming\nThe Data Scientist’s Toolbox\nComputational Social Science\nPython for Data Science\nGetting and Cleaning Data\nThe Analytics Edge\nProbability - The Science of Uncertainty and Data\nBecome a Data Analyst\nIntroduction to Big Data\nIntroduction to Data Science in Python\nExploratory Data Analysis\nProbability and Statistics in Data Science using Python\nMastering Data Analysis in Excel\nA Crash Course in Data Science\nHadoop Platform and Application Framework\nMining Massive Datasets\nIntroduction to Computational Thinking and Data Science\nDigital Marketing Analytics in Practice\nStatistical Inference\nStatistics and R\nRegression Models\nSpatial Data Science: The New Frontier in Analytics\nBuilding a Data Science Team\nWhole genome sequencing of bacterial genomes - tools and applications\nReproducible Research\nData Science in Real Life\nPython for Genomic Data Science\nIntroducción a la Ciencia de Datos con Python\nMaking Sense of Data in the Media\nApplied Plotting, Charting &amp; Data Representation in Python\nData Science: R Basics\nManaging Data Analysis\nData Science Math Skills\nData Visualization and Communication with Tableau\nText Mining and Analytics\nMathematical Biostatistics Boot Camp 2\nThe R Programming Environment\nDeveloping Data Products\nData Science: Machine Learning\nStatistical Thinking for Data Science and Analytics\nCluster Analysis in Data Mining\nData Science and Agile Systems for Product Management\nPattern Discovery in Data Mining\nData Analysis for Social Scientists\nCausal Diagrams: Draw Your Assumptions Before Your Conclusions\nData Science: Visualization\nHigh-Dimensional Data Analysis\nData Science: Linear Regression\nGenome Sequencing (Bioinformatics II)\nBuilding R Packages\n"
     ]
    }
   ],
   "source": [
    "for i in soup.findAll(\"span\",{'class' : 'text-1 weight-semi line-tight'}):\n",
    "    b = str(i)\n",
    "    #print(b[find_1st(b,'>')+1 : find_2nd(b,'<')])\n",
    "    Course.append(b[find_1st(b,'>')+1 : find_2nd(b,'<')])\n",
    "\n",
    "course = []\n",
    "for i in Course:\n",
    "    i = i.strip()\n",
    "    print(i)\n",
    "    course.append(i)"
   ]
  },
  {
   "source": [
    "**Step-6 Scrape Course Provider**"
   ],
   "cell_type": "markdown",
   "metadata": {}
  },
  {
   "cell_type": "code",
   "execution_count": 13,
   "metadata": {},
   "outputs": [
    {
     "output_type": "stream",
     "name": "stdout",
     "text": [
      "Coursera\nCoursera\nCoursera\nedX\nCoursera\nedX\nedX\nUdacity\nCoursera\nCoursera\nCoursera\nedX\nCoursera\nCoursera\nCoursera\nedX\nedX\nCoursera\nCoursera\nedX\nCoursera\nIndependent\nCoursera\nCoursera\nCoursera\nCoursera\nCoursera\nedX\nFutureLearn\nCoursera\nedX\nCoursera\nCoursera\nCoursera\nCoursera\nCoursera\nCoursera\nCoursera\nedX\nedX\nCoursera\nedX\nCoursera\nedX\nedX\nedX\nedX\nedX\nCoursera\nCoursera\n"
     ]
    }
   ],
   "source": [
    "for i in soup.findAll('a', href=True , attrs={'class' : 'color-charcoal italic'}):\n",
    "    b = str(i)\n",
    "    Offered_By.append(b[find_1st(b,'>')+1 : find_2nd(b,'<')])\n",
    "\n",
    "provider = []\n",
    "for i in Offered_By:\n",
    "    i = i.strip()\n",
    "    print(i)\n",
    "    provider.append(i)"
   ]
  },
  {
   "source": [
    "**Step-7: Scrape Course Rating**"
   ],
   "cell_type": "markdown",
   "metadata": {}
  },
  {
   "cell_type": "code",
   "execution_count": 14,
   "metadata": {},
   "outputs": [
    {
     "output_type": "stream",
     "name": "stdout",
     "text": [
      "2.8\n3.3\n4.8\n4.4\n3.5\n4.7\n4.9\n4.5\n2.7\n2.4\n3.9\n1.8\n1.8\n3.5\n1.9\n4.6\n4.5\n4.2\n2.8\n3.5\n2.5\n5.0\n3.6\n4.8\n3.9\n3.2\n2.4\n4.8\n4.7\n2.4\n4.6\n2.7\n4.1\n3.8\n3.7\n4.0\n2.8\n3.9\n3.8\n2.2\n2.6\n4.7\n2.1\n3.2\n5.0\n4.7\n3.7\n2.3\n5.0\n3.0\n"
     ]
    }
   ],
   "source": [
    "rat = []\n",
    "for d in soup.findAll('div', attrs={'class':'col border-box text-center nowrap row large-up-text-right padding-horz-small push'}):\n",
    "    abc = d.find('span' , attrs={'class' : 'xlarge-up-hidden color-charcoal text-center'})\n",
    "    if abc is not None:\n",
    "        rat.append(abc.text)\n",
    "    else:\n",
    "        rat.append('-1')\n",
    "for i in rat:\n",
    "    i = i.strip()\n",
    "    print(i)\n",
    "    Rating.append(i)"
   ]
  },
  {
   "source": [
    "**Step-8: Scrape Number of Reviews**"
   ],
   "cell_type": "markdown",
   "metadata": {}
  },
  {
   "cell_type": "code",
   "execution_count": 15,
   "metadata": {},
   "outputs": [
    {
     "output_type": "stream",
     "name": "stdout",
     "text": [
      "245 Reviews\n165 Reviews\n76 Reviews\n47 Reviews\n57 Reviews\n80 Reviews\n32 Reviews\n64 Reviews\n35 Reviews\n46 Reviews\n39 Reviews\n26 Reviews\n26 Reviews\n23 Reviews\n25 Reviews\n25 Reviews\n31 Reviews\n24 Reviews\n34 Reviews\n20 Reviews\n33 Reviews\n41 Reviews\n14 Reviews\n22 Reviews\n27 Reviews\n12 Reviews\n12 Reviews\n34 Reviews\n33 Reviews\n9 Reviews\n10 Reviews\n9 Reviews\n10 Reviews\n9 Reviews\n10 Reviews\n4 Reviews\n4 Reviews\n18 Reviews\n4 Reviews\n19 Reviews\n7 Reviews\n24 Reviews\n21 Reviews\n13 Reviews\n3 Reviews\n3 Reviews\n3 Reviews\n3 Reviews\n4 Reviews\n2 Reviews\n"
     ]
    }
   ],
   "source": [
    "for i in soup.findAll('span', {'class' : 'large-down-hidden block line-tight text-4 color-gray'}):\n",
    "    b = str(i)\n",
    "    No_of_reviews.append(b[find_1st(b,'>')+1 : find_2nd(b,'<')])\n",
    "\n",
    "reviews = []\n",
    "for i in No_of_reviews:\n",
    "    i = i.strip()\n",
    "    print(i)\n",
    "    reviews.append(i)"
   ]
  },
  {
   "source": [
    "**Step-9: Scrape Course Duration**"
   ],
   "cell_type": "markdown",
   "metadata": {}
  },
  {
   "source": [
    "**Step-10: Append to Data Frame**"
   ],
   "cell_type": "markdown",
   "metadata": {}
  },
  {
   "cell_type": "code",
   "execution_count": 20,
   "metadata": {},
   "outputs": [],
   "source": [
    "import pandas as pd \n",
    "classcentral_dfDS = pd.DataFrame({'Course Name':course,'Ratings':Rating,'Number of Reviews':reviews,'Course Provider':provider})"
   ]
  },
  {
   "cell_type": "code",
   "execution_count": 21,
   "metadata": {},
   "outputs": [
    {
     "output_type": "execute_result",
     "data": {
      "text/plain": [
       "                                          Course Name Ratings  \\\n",
       "0                                       R Programming     2.8   \n",
       "1                        The Data Scientist’s Toolbox     3.3   \n",
       "2                        Computational Social Science     4.8   \n",
       "3                             Python for Data Science     4.4   \n",
       "4                           Getting and Cleaning Data     3.5   \n",
       "5                                  The Analytics Edge     4.7   \n",
       "6   Probability - The Science of Uncertainty and Data     4.9   \n",
       "7                               Become a Data Analyst     4.5   \n",
       "8                            Introduction to Big Data     2.7   \n",
       "9              Introduction to Data Science in Python     2.4   \n",
       "10                          Exploratory Data Analysis     3.9   \n",
       "11  Probability and Statistics in Data Science usi...     1.8   \n",
       "12                   Mastering Data Analysis in Excel     1.8   \n",
       "13                     A Crash Course in Data Science     3.5   \n",
       "14          Hadoop Platform and Application Framework     1.9   \n",
       "15                            Mining Massive Datasets     4.6   \n",
       "16  Introduction to Computational Thinking and Dat...     4.5   \n",
       "17            Digital Marketing Analytics in Practice     4.2   \n",
       "18                              Statistical Inference     2.8   \n",
       "19                                   Statistics and R     3.5   \n",
       "20                                  Regression Models     2.5   \n",
       "21  Spatial Data Science: The New Frontier in Anal...     5.0   \n",
       "22                       Building a Data Science Team     3.6   \n",
       "23  Whole genome sequencing of bacterial genomes -...     4.8   \n",
       "24                              Reproducible Research     3.9   \n",
       "25                          Data Science in Real Life     3.2   \n",
       "26                    Python for Genomic Data Science     2.4   \n",
       "27      Introducción a la Ciencia de Datos con Python     4.8   \n",
       "28                  Making Sense of Data in the Media     4.7   \n",
       "29  Applied Plotting, Charting &amp; Data Represen...     2.4   \n",
       "30                             Data Science: R Basics     4.6   \n",
       "31                             Managing Data Analysis     2.7   \n",
       "32                           Data Science Math Skills     4.1   \n",
       "33  Data Visualization and Communication with Tableau     3.8   \n",
       "34                          Text Mining and Analytics     3.7   \n",
       "35             Mathematical Biostatistics Boot Camp 2     4.0   \n",
       "36                      The R Programming Environment     2.8   \n",
       "37                           Developing Data Products     3.9   \n",
       "38                     Data Science: Machine Learning     3.8   \n",
       "39  Statistical Thinking for Data Science and Anal...     2.2   \n",
       "40                    Cluster Analysis in Data Mining     2.6   \n",
       "41  Data Science and Agile Systems for Product Man...     4.7   \n",
       "42                   Pattern Discovery in Data Mining     2.1   \n",
       "43                Data Analysis for Social Scientists     3.2   \n",
       "44  Causal Diagrams: Draw Your Assumptions Before ...     5.0   \n",
       "45                        Data Science: Visualization     4.7   \n",
       "46                     High-Dimensional Data Analysis     3.7   \n",
       "47                    Data Science: Linear Regression     2.3   \n",
       "48              Genome Sequencing (Bioinformatics II)     5.0   \n",
       "49                                Building R Packages     3.0   \n",
       "\n",
       "   Number of Reviews Course Provider  \n",
       "0        245 Reviews        Coursera  \n",
       "1        165 Reviews        Coursera  \n",
       "2         76 Reviews        Coursera  \n",
       "3         47 Reviews             edX  \n",
       "4         57 Reviews        Coursera  \n",
       "5         80 Reviews             edX  \n",
       "6         32 Reviews             edX  \n",
       "7         64 Reviews         Udacity  \n",
       "8         35 Reviews        Coursera  \n",
       "9         46 Reviews        Coursera  \n",
       "10        39 Reviews        Coursera  \n",
       "11        26 Reviews             edX  \n",
       "12        26 Reviews        Coursera  \n",
       "13        23 Reviews        Coursera  \n",
       "14        25 Reviews        Coursera  \n",
       "15        25 Reviews             edX  \n",
       "16        31 Reviews             edX  \n",
       "17        24 Reviews        Coursera  \n",
       "18        34 Reviews        Coursera  \n",
       "19        20 Reviews             edX  \n",
       "20        33 Reviews        Coursera  \n",
       "21        41 Reviews     Independent  \n",
       "22        14 Reviews        Coursera  \n",
       "23        22 Reviews        Coursera  \n",
       "24        27 Reviews        Coursera  \n",
       "25        12 Reviews        Coursera  \n",
       "26        12 Reviews        Coursera  \n",
       "27        34 Reviews             edX  \n",
       "28        33 Reviews     FutureLearn  \n",
       "29         9 Reviews        Coursera  \n",
       "30        10 Reviews             edX  \n",
       "31         9 Reviews        Coursera  \n",
       "32        10 Reviews        Coursera  \n",
       "33         9 Reviews        Coursera  \n",
       "34        10 Reviews        Coursera  \n",
       "35         4 Reviews        Coursera  \n",
       "36         4 Reviews        Coursera  \n",
       "37        18 Reviews        Coursera  \n",
       "38         4 Reviews             edX  \n",
       "39        19 Reviews             edX  \n",
       "40         7 Reviews        Coursera  \n",
       "41        24 Reviews             edX  \n",
       "42        21 Reviews        Coursera  \n",
       "43        13 Reviews             edX  \n",
       "44         3 Reviews             edX  \n",
       "45         3 Reviews             edX  \n",
       "46         3 Reviews             edX  \n",
       "47         3 Reviews             edX  \n",
       "48         4 Reviews        Coursera  \n",
       "49         2 Reviews        Coursera  "
      ],
      "text/html": "<div>\n<style scoped>\n    .dataframe tbody tr th:only-of-type {\n        vertical-align: middle;\n    }\n\n    .dataframe tbody tr th {\n        vertical-align: top;\n    }\n\n    .dataframe thead th {\n        text-align: right;\n    }\n</style>\n<table border=\"1\" class=\"dataframe\">\n  <thead>\n    <tr style=\"text-align: right;\">\n      <th></th>\n      <th>Course Name</th>\n      <th>Ratings</th>\n      <th>Number of Reviews</th>\n      <th>Course Provider</th>\n    </tr>\n  </thead>\n  <tbody>\n    <tr>\n      <th>0</th>\n      <td>R Programming</td>\n      <td>2.8</td>\n      <td>245 Reviews</td>\n      <td>Coursera</td>\n    </tr>\n    <tr>\n      <th>1</th>\n      <td>The Data Scientist’s Toolbox</td>\n      <td>3.3</td>\n      <td>165 Reviews</td>\n      <td>Coursera</td>\n    </tr>\n    <tr>\n      <th>2</th>\n      <td>Computational Social Science</td>\n      <td>4.8</td>\n      <td>76 Reviews</td>\n      <td>Coursera</td>\n    </tr>\n    <tr>\n      <th>3</th>\n      <td>Python for Data Science</td>\n      <td>4.4</td>\n      <td>47 Reviews</td>\n      <td>edX</td>\n    </tr>\n    <tr>\n      <th>4</th>\n      <td>Getting and Cleaning Data</td>\n      <td>3.5</td>\n      <td>57 Reviews</td>\n      <td>Coursera</td>\n    </tr>\n    <tr>\n      <th>5</th>\n      <td>The Analytics Edge</td>\n      <td>4.7</td>\n      <td>80 Reviews</td>\n      <td>edX</td>\n    </tr>\n    <tr>\n      <th>6</th>\n      <td>Probability - The Science of Uncertainty and Data</td>\n      <td>4.9</td>\n      <td>32 Reviews</td>\n      <td>edX</td>\n    </tr>\n    <tr>\n      <th>7</th>\n      <td>Become a Data Analyst</td>\n      <td>4.5</td>\n      <td>64 Reviews</td>\n      <td>Udacity</td>\n    </tr>\n    <tr>\n      <th>8</th>\n      <td>Introduction to Big Data</td>\n      <td>2.7</td>\n      <td>35 Reviews</td>\n      <td>Coursera</td>\n    </tr>\n    <tr>\n      <th>9</th>\n      <td>Introduction to Data Science in Python</td>\n      <td>2.4</td>\n      <td>46 Reviews</td>\n      <td>Coursera</td>\n    </tr>\n    <tr>\n      <th>10</th>\n      <td>Exploratory Data Analysis</td>\n      <td>3.9</td>\n      <td>39 Reviews</td>\n      <td>Coursera</td>\n    </tr>\n    <tr>\n      <th>11</th>\n      <td>Probability and Statistics in Data Science usi...</td>\n      <td>1.8</td>\n      <td>26 Reviews</td>\n      <td>edX</td>\n    </tr>\n    <tr>\n      <th>12</th>\n      <td>Mastering Data Analysis in Excel</td>\n      <td>1.8</td>\n      <td>26 Reviews</td>\n      <td>Coursera</td>\n    </tr>\n    <tr>\n      <th>13</th>\n      <td>A Crash Course in Data Science</td>\n      <td>3.5</td>\n      <td>23 Reviews</td>\n      <td>Coursera</td>\n    </tr>\n    <tr>\n      <th>14</th>\n      <td>Hadoop Platform and Application Framework</td>\n      <td>1.9</td>\n      <td>25 Reviews</td>\n      <td>Coursera</td>\n    </tr>\n    <tr>\n      <th>15</th>\n      <td>Mining Massive Datasets</td>\n      <td>4.6</td>\n      <td>25 Reviews</td>\n      <td>edX</td>\n    </tr>\n    <tr>\n      <th>16</th>\n      <td>Introduction to Computational Thinking and Dat...</td>\n      <td>4.5</td>\n      <td>31 Reviews</td>\n      <td>edX</td>\n    </tr>\n    <tr>\n      <th>17</th>\n      <td>Digital Marketing Analytics in Practice</td>\n      <td>4.2</td>\n      <td>24 Reviews</td>\n      <td>Coursera</td>\n    </tr>\n    <tr>\n      <th>18</th>\n      <td>Statistical Inference</td>\n      <td>2.8</td>\n      <td>34 Reviews</td>\n      <td>Coursera</td>\n    </tr>\n    <tr>\n      <th>19</th>\n      <td>Statistics and R</td>\n      <td>3.5</td>\n      <td>20 Reviews</td>\n      <td>edX</td>\n    </tr>\n    <tr>\n      <th>20</th>\n      <td>Regression Models</td>\n      <td>2.5</td>\n      <td>33 Reviews</td>\n      <td>Coursera</td>\n    </tr>\n    <tr>\n      <th>21</th>\n      <td>Spatial Data Science: The New Frontier in Anal...</td>\n      <td>5.0</td>\n      <td>41 Reviews</td>\n      <td>Independent</td>\n    </tr>\n    <tr>\n      <th>22</th>\n      <td>Building a Data Science Team</td>\n      <td>3.6</td>\n      <td>14 Reviews</td>\n      <td>Coursera</td>\n    </tr>\n    <tr>\n      <th>23</th>\n      <td>Whole genome sequencing of bacterial genomes -...</td>\n      <td>4.8</td>\n      <td>22 Reviews</td>\n      <td>Coursera</td>\n    </tr>\n    <tr>\n      <th>24</th>\n      <td>Reproducible Research</td>\n      <td>3.9</td>\n      <td>27 Reviews</td>\n      <td>Coursera</td>\n    </tr>\n    <tr>\n      <th>25</th>\n      <td>Data Science in Real Life</td>\n      <td>3.2</td>\n      <td>12 Reviews</td>\n      <td>Coursera</td>\n    </tr>\n    <tr>\n      <th>26</th>\n      <td>Python for Genomic Data Science</td>\n      <td>2.4</td>\n      <td>12 Reviews</td>\n      <td>Coursera</td>\n    </tr>\n    <tr>\n      <th>27</th>\n      <td>Introducción a la Ciencia de Datos con Python</td>\n      <td>4.8</td>\n      <td>34 Reviews</td>\n      <td>edX</td>\n    </tr>\n    <tr>\n      <th>28</th>\n      <td>Making Sense of Data in the Media</td>\n      <td>4.7</td>\n      <td>33 Reviews</td>\n      <td>FutureLearn</td>\n    </tr>\n    <tr>\n      <th>29</th>\n      <td>Applied Plotting, Charting &amp;amp; Data Represen...</td>\n      <td>2.4</td>\n      <td>9 Reviews</td>\n      <td>Coursera</td>\n    </tr>\n    <tr>\n      <th>30</th>\n      <td>Data Science: R Basics</td>\n      <td>4.6</td>\n      <td>10 Reviews</td>\n      <td>edX</td>\n    </tr>\n    <tr>\n      <th>31</th>\n      <td>Managing Data Analysis</td>\n      <td>2.7</td>\n      <td>9 Reviews</td>\n      <td>Coursera</td>\n    </tr>\n    <tr>\n      <th>32</th>\n      <td>Data Science Math Skills</td>\n      <td>4.1</td>\n      <td>10 Reviews</td>\n      <td>Coursera</td>\n    </tr>\n    <tr>\n      <th>33</th>\n      <td>Data Visualization and Communication with Tableau</td>\n      <td>3.8</td>\n      <td>9 Reviews</td>\n      <td>Coursera</td>\n    </tr>\n    <tr>\n      <th>34</th>\n      <td>Text Mining and Analytics</td>\n      <td>3.7</td>\n      <td>10 Reviews</td>\n      <td>Coursera</td>\n    </tr>\n    <tr>\n      <th>35</th>\n      <td>Mathematical Biostatistics Boot Camp 2</td>\n      <td>4.0</td>\n      <td>4 Reviews</td>\n      <td>Coursera</td>\n    </tr>\n    <tr>\n      <th>36</th>\n      <td>The R Programming Environment</td>\n      <td>2.8</td>\n      <td>4 Reviews</td>\n      <td>Coursera</td>\n    </tr>\n    <tr>\n      <th>37</th>\n      <td>Developing Data Products</td>\n      <td>3.9</td>\n      <td>18 Reviews</td>\n      <td>Coursera</td>\n    </tr>\n    <tr>\n      <th>38</th>\n      <td>Data Science: Machine Learning</td>\n      <td>3.8</td>\n      <td>4 Reviews</td>\n      <td>edX</td>\n    </tr>\n    <tr>\n      <th>39</th>\n      <td>Statistical Thinking for Data Science and Anal...</td>\n      <td>2.2</td>\n      <td>19 Reviews</td>\n      <td>edX</td>\n    </tr>\n    <tr>\n      <th>40</th>\n      <td>Cluster Analysis in Data Mining</td>\n      <td>2.6</td>\n      <td>7 Reviews</td>\n      <td>Coursera</td>\n    </tr>\n    <tr>\n      <th>41</th>\n      <td>Data Science and Agile Systems for Product Man...</td>\n      <td>4.7</td>\n      <td>24 Reviews</td>\n      <td>edX</td>\n    </tr>\n    <tr>\n      <th>42</th>\n      <td>Pattern Discovery in Data Mining</td>\n      <td>2.1</td>\n      <td>21 Reviews</td>\n      <td>Coursera</td>\n    </tr>\n    <tr>\n      <th>43</th>\n      <td>Data Analysis for Social Scientists</td>\n      <td>3.2</td>\n      <td>13 Reviews</td>\n      <td>edX</td>\n    </tr>\n    <tr>\n      <th>44</th>\n      <td>Causal Diagrams: Draw Your Assumptions Before ...</td>\n      <td>5.0</td>\n      <td>3 Reviews</td>\n      <td>edX</td>\n    </tr>\n    <tr>\n      <th>45</th>\n      <td>Data Science: Visualization</td>\n      <td>4.7</td>\n      <td>3 Reviews</td>\n      <td>edX</td>\n    </tr>\n    <tr>\n      <th>46</th>\n      <td>High-Dimensional Data Analysis</td>\n      <td>3.7</td>\n      <td>3 Reviews</td>\n      <td>edX</td>\n    </tr>\n    <tr>\n      <th>47</th>\n      <td>Data Science: Linear Regression</td>\n      <td>2.3</td>\n      <td>3 Reviews</td>\n      <td>edX</td>\n    </tr>\n    <tr>\n      <th>48</th>\n      <td>Genome Sequencing (Bioinformatics II)</td>\n      <td>5.0</td>\n      <td>4 Reviews</td>\n      <td>Coursera</td>\n    </tr>\n    <tr>\n      <th>49</th>\n      <td>Building R Packages</td>\n      <td>3.0</td>\n      <td>2 Reviews</td>\n      <td>Coursera</td>\n    </tr>\n  </tbody>\n</table>\n</div>"
     },
     "metadata": {},
     "execution_count": 21
    }
   ],
   "source": [
    "classcentral_dfDS"
   ]
  },
  {
   "cell_type": "code",
   "execution_count": 23,
   "metadata": {},
   "outputs": [],
   "source": [
    "classcentral_dfDS.to_csv('ClassCentral_DB.csv')"
   ]
  },
  {
   "cell_type": "code",
   "execution_count": 25,
   "metadata": {},
   "outputs": [],
   "source": [
    "DB = pd.read_csv('ClassCentral_DB.csv')"
   ]
  },
  {
   "cell_type": "code",
   "execution_count": 26,
   "metadata": {},
   "outputs": [
    {
     "output_type": "execute_result",
     "data": {
      "text/plain": [
       "    Unnamed: 0                                        Course Name  Ratings  \\\n",
       "0            0                                      R Programming      2.8   \n",
       "1            1                       The Data Scientist’s Toolbox      3.3   \n",
       "2            2                       Computational Social Science      4.8   \n",
       "3            3                            Python for Data Science      4.4   \n",
       "4            4                          Getting and Cleaning Data      3.5   \n",
       "5            5                                 The Analytics Edge      4.7   \n",
       "6            6  Probability - The Science of Uncertainty and Data      4.9   \n",
       "7            7                              Become a Data Analyst      4.5   \n",
       "8            8                           Introduction to Big Data      2.7   \n",
       "9            9             Introduction to Data Science in Python      2.4   \n",
       "10          10                          Exploratory Data Analysis      3.9   \n",
       "11          11  Probability and Statistics in Data Science usi...      1.8   \n",
       "12          12                   Mastering Data Analysis in Excel      1.8   \n",
       "13          13                     A Crash Course in Data Science      3.5   \n",
       "14          14          Hadoop Platform and Application Framework      1.9   \n",
       "15          15                            Mining Massive Datasets      4.6   \n",
       "16          16  Introduction to Computational Thinking and Dat...      4.5   \n",
       "17          17            Digital Marketing Analytics in Practice      4.2   \n",
       "18          18                              Statistical Inference      2.8   \n",
       "19          19                                   Statistics and R      3.5   \n",
       "20          20                                  Regression Models      2.5   \n",
       "21          21  Spatial Data Science: The New Frontier in Anal...      5.0   \n",
       "22          22                       Building a Data Science Team      3.6   \n",
       "23          23  Whole genome sequencing of bacterial genomes -...      4.8   \n",
       "24          24                              Reproducible Research      3.9   \n",
       "25          25                          Data Science in Real Life      3.2   \n",
       "26          26                    Python for Genomic Data Science      2.4   \n",
       "27          27      Introducción a la Ciencia de Datos con Python      4.8   \n",
       "28          28                  Making Sense of Data in the Media      4.7   \n",
       "29          29  Applied Plotting, Charting &amp; Data Represen...      2.4   \n",
       "30          30                             Data Science: R Basics      4.6   \n",
       "31          31                             Managing Data Analysis      2.7   \n",
       "32          32                           Data Science Math Skills      4.1   \n",
       "33          33  Data Visualization and Communication with Tableau      3.8   \n",
       "34          34                          Text Mining and Analytics      3.7   \n",
       "35          35             Mathematical Biostatistics Boot Camp 2      4.0   \n",
       "36          36                      The R Programming Environment      2.8   \n",
       "37          37                           Developing Data Products      3.9   \n",
       "38          38                     Data Science: Machine Learning      3.8   \n",
       "39          39  Statistical Thinking for Data Science and Anal...      2.2   \n",
       "40          40                    Cluster Analysis in Data Mining      2.6   \n",
       "41          41  Data Science and Agile Systems for Product Man...      4.7   \n",
       "42          42                   Pattern Discovery in Data Mining      2.1   \n",
       "43          43                Data Analysis for Social Scientists      3.2   \n",
       "44          44  Causal Diagrams: Draw Your Assumptions Before ...      5.0   \n",
       "45          45                        Data Science: Visualization      4.7   \n",
       "46          46                     High-Dimensional Data Analysis      3.7   \n",
       "47          47                    Data Science: Linear Regression      2.3   \n",
       "48          48              Genome Sequencing (Bioinformatics II)      5.0   \n",
       "49          49                                Building R Packages      3.0   \n",
       "\n",
       "   Number of Reviews Course Provider  \n",
       "0        245 Reviews        Coursera  \n",
       "1        165 Reviews        Coursera  \n",
       "2         76 Reviews        Coursera  \n",
       "3         47 Reviews             edX  \n",
       "4         57 Reviews        Coursera  \n",
       "5         80 Reviews             edX  \n",
       "6         32 Reviews             edX  \n",
       "7         64 Reviews         Udacity  \n",
       "8         35 Reviews        Coursera  \n",
       "9         46 Reviews        Coursera  \n",
       "10        39 Reviews        Coursera  \n",
       "11        26 Reviews             edX  \n",
       "12        26 Reviews        Coursera  \n",
       "13        23 Reviews        Coursera  \n",
       "14        25 Reviews        Coursera  \n",
       "15        25 Reviews             edX  \n",
       "16        31 Reviews             edX  \n",
       "17        24 Reviews        Coursera  \n",
       "18        34 Reviews        Coursera  \n",
       "19        20 Reviews             edX  \n",
       "20        33 Reviews        Coursera  \n",
       "21        41 Reviews     Independent  \n",
       "22        14 Reviews        Coursera  \n",
       "23        22 Reviews        Coursera  \n",
       "24        27 Reviews        Coursera  \n",
       "25        12 Reviews        Coursera  \n",
       "26        12 Reviews        Coursera  \n",
       "27        34 Reviews             edX  \n",
       "28        33 Reviews     FutureLearn  \n",
       "29         9 Reviews        Coursera  \n",
       "30        10 Reviews             edX  \n",
       "31         9 Reviews        Coursera  \n",
       "32        10 Reviews        Coursera  \n",
       "33         9 Reviews        Coursera  \n",
       "34        10 Reviews        Coursera  \n",
       "35         4 Reviews        Coursera  \n",
       "36         4 Reviews        Coursera  \n",
       "37        18 Reviews        Coursera  \n",
       "38         4 Reviews             edX  \n",
       "39        19 Reviews             edX  \n",
       "40         7 Reviews        Coursera  \n",
       "41        24 Reviews             edX  \n",
       "42        21 Reviews        Coursera  \n",
       "43        13 Reviews             edX  \n",
       "44         3 Reviews             edX  \n",
       "45         3 Reviews             edX  \n",
       "46         3 Reviews             edX  \n",
       "47         3 Reviews             edX  \n",
       "48         4 Reviews        Coursera  \n",
       "49         2 Reviews        Coursera  "
      ],
      "text/html": "<div>\n<style scoped>\n    .dataframe tbody tr th:only-of-type {\n        vertical-align: middle;\n    }\n\n    .dataframe tbody tr th {\n        vertical-align: top;\n    }\n\n    .dataframe thead th {\n        text-align: right;\n    }\n</style>\n<table border=\"1\" class=\"dataframe\">\n  <thead>\n    <tr style=\"text-align: right;\">\n      <th></th>\n      <th>Unnamed: 0</th>\n      <th>Course Name</th>\n      <th>Ratings</th>\n      <th>Number of Reviews</th>\n      <th>Course Provider</th>\n    </tr>\n  </thead>\n  <tbody>\n    <tr>\n      <th>0</th>\n      <td>0</td>\n      <td>R Programming</td>\n      <td>2.8</td>\n      <td>245 Reviews</td>\n      <td>Coursera</td>\n    </tr>\n    <tr>\n      <th>1</th>\n      <td>1</td>\n      <td>The Data Scientist’s Toolbox</td>\n      <td>3.3</td>\n      <td>165 Reviews</td>\n      <td>Coursera</td>\n    </tr>\n    <tr>\n      <th>2</th>\n      <td>2</td>\n      <td>Computational Social Science</td>\n      <td>4.8</td>\n      <td>76 Reviews</td>\n      <td>Coursera</td>\n    </tr>\n    <tr>\n      <th>3</th>\n      <td>3</td>\n      <td>Python for Data Science</td>\n      <td>4.4</td>\n      <td>47 Reviews</td>\n      <td>edX</td>\n    </tr>\n    <tr>\n      <th>4</th>\n      <td>4</td>\n      <td>Getting and Cleaning Data</td>\n      <td>3.5</td>\n      <td>57 Reviews</td>\n      <td>Coursera</td>\n    </tr>\n    <tr>\n      <th>5</th>\n      <td>5</td>\n      <td>The Analytics Edge</td>\n      <td>4.7</td>\n      <td>80 Reviews</td>\n      <td>edX</td>\n    </tr>\n    <tr>\n      <th>6</th>\n      <td>6</td>\n      <td>Probability - The Science of Uncertainty and Data</td>\n      <td>4.9</td>\n      <td>32 Reviews</td>\n      <td>edX</td>\n    </tr>\n    <tr>\n      <th>7</th>\n      <td>7</td>\n      <td>Become a Data Analyst</td>\n      <td>4.5</td>\n      <td>64 Reviews</td>\n      <td>Udacity</td>\n    </tr>\n    <tr>\n      <th>8</th>\n      <td>8</td>\n      <td>Introduction to Big Data</td>\n      <td>2.7</td>\n      <td>35 Reviews</td>\n      <td>Coursera</td>\n    </tr>\n    <tr>\n      <th>9</th>\n      <td>9</td>\n      <td>Introduction to Data Science in Python</td>\n      <td>2.4</td>\n      <td>46 Reviews</td>\n      <td>Coursera</td>\n    </tr>\n    <tr>\n      <th>10</th>\n      <td>10</td>\n      <td>Exploratory Data Analysis</td>\n      <td>3.9</td>\n      <td>39 Reviews</td>\n      <td>Coursera</td>\n    </tr>\n    <tr>\n      <th>11</th>\n      <td>11</td>\n      <td>Probability and Statistics in Data Science usi...</td>\n      <td>1.8</td>\n      <td>26 Reviews</td>\n      <td>edX</td>\n    </tr>\n    <tr>\n      <th>12</th>\n      <td>12</td>\n      <td>Mastering Data Analysis in Excel</td>\n      <td>1.8</td>\n      <td>26 Reviews</td>\n      <td>Coursera</td>\n    </tr>\n    <tr>\n      <th>13</th>\n      <td>13</td>\n      <td>A Crash Course in Data Science</td>\n      <td>3.5</td>\n      <td>23 Reviews</td>\n      <td>Coursera</td>\n    </tr>\n    <tr>\n      <th>14</th>\n      <td>14</td>\n      <td>Hadoop Platform and Application Framework</td>\n      <td>1.9</td>\n      <td>25 Reviews</td>\n      <td>Coursera</td>\n    </tr>\n    <tr>\n      <th>15</th>\n      <td>15</td>\n      <td>Mining Massive Datasets</td>\n      <td>4.6</td>\n      <td>25 Reviews</td>\n      <td>edX</td>\n    </tr>\n    <tr>\n      <th>16</th>\n      <td>16</td>\n      <td>Introduction to Computational Thinking and Dat...</td>\n      <td>4.5</td>\n      <td>31 Reviews</td>\n      <td>edX</td>\n    </tr>\n    <tr>\n      <th>17</th>\n      <td>17</td>\n      <td>Digital Marketing Analytics in Practice</td>\n      <td>4.2</td>\n      <td>24 Reviews</td>\n      <td>Coursera</td>\n    </tr>\n    <tr>\n      <th>18</th>\n      <td>18</td>\n      <td>Statistical Inference</td>\n      <td>2.8</td>\n      <td>34 Reviews</td>\n      <td>Coursera</td>\n    </tr>\n    <tr>\n      <th>19</th>\n      <td>19</td>\n      <td>Statistics and R</td>\n      <td>3.5</td>\n      <td>20 Reviews</td>\n      <td>edX</td>\n    </tr>\n    <tr>\n      <th>20</th>\n      <td>20</td>\n      <td>Regression Models</td>\n      <td>2.5</td>\n      <td>33 Reviews</td>\n      <td>Coursera</td>\n    </tr>\n    <tr>\n      <th>21</th>\n      <td>21</td>\n      <td>Spatial Data Science: The New Frontier in Anal...</td>\n      <td>5.0</td>\n      <td>41 Reviews</td>\n      <td>Independent</td>\n    </tr>\n    <tr>\n      <th>22</th>\n      <td>22</td>\n      <td>Building a Data Science Team</td>\n      <td>3.6</td>\n      <td>14 Reviews</td>\n      <td>Coursera</td>\n    </tr>\n    <tr>\n      <th>23</th>\n      <td>23</td>\n      <td>Whole genome sequencing of bacterial genomes -...</td>\n      <td>4.8</td>\n      <td>22 Reviews</td>\n      <td>Coursera</td>\n    </tr>\n    <tr>\n      <th>24</th>\n      <td>24</td>\n      <td>Reproducible Research</td>\n      <td>3.9</td>\n      <td>27 Reviews</td>\n      <td>Coursera</td>\n    </tr>\n    <tr>\n      <th>25</th>\n      <td>25</td>\n      <td>Data Science in Real Life</td>\n      <td>3.2</td>\n      <td>12 Reviews</td>\n      <td>Coursera</td>\n    </tr>\n    <tr>\n      <th>26</th>\n      <td>26</td>\n      <td>Python for Genomic Data Science</td>\n      <td>2.4</td>\n      <td>12 Reviews</td>\n      <td>Coursera</td>\n    </tr>\n    <tr>\n      <th>27</th>\n      <td>27</td>\n      <td>Introducción a la Ciencia de Datos con Python</td>\n      <td>4.8</td>\n      <td>34 Reviews</td>\n      <td>edX</td>\n    </tr>\n    <tr>\n      <th>28</th>\n      <td>28</td>\n      <td>Making Sense of Data in the Media</td>\n      <td>4.7</td>\n      <td>33 Reviews</td>\n      <td>FutureLearn</td>\n    </tr>\n    <tr>\n      <th>29</th>\n      <td>29</td>\n      <td>Applied Plotting, Charting &amp;amp; Data Represen...</td>\n      <td>2.4</td>\n      <td>9 Reviews</td>\n      <td>Coursera</td>\n    </tr>\n    <tr>\n      <th>30</th>\n      <td>30</td>\n      <td>Data Science: R Basics</td>\n      <td>4.6</td>\n      <td>10 Reviews</td>\n      <td>edX</td>\n    </tr>\n    <tr>\n      <th>31</th>\n      <td>31</td>\n      <td>Managing Data Analysis</td>\n      <td>2.7</td>\n      <td>9 Reviews</td>\n      <td>Coursera</td>\n    </tr>\n    <tr>\n      <th>32</th>\n      <td>32</td>\n      <td>Data Science Math Skills</td>\n      <td>4.1</td>\n      <td>10 Reviews</td>\n      <td>Coursera</td>\n    </tr>\n    <tr>\n      <th>33</th>\n      <td>33</td>\n      <td>Data Visualization and Communication with Tableau</td>\n      <td>3.8</td>\n      <td>9 Reviews</td>\n      <td>Coursera</td>\n    </tr>\n    <tr>\n      <th>34</th>\n      <td>34</td>\n      <td>Text Mining and Analytics</td>\n      <td>3.7</td>\n      <td>10 Reviews</td>\n      <td>Coursera</td>\n    </tr>\n    <tr>\n      <th>35</th>\n      <td>35</td>\n      <td>Mathematical Biostatistics Boot Camp 2</td>\n      <td>4.0</td>\n      <td>4 Reviews</td>\n      <td>Coursera</td>\n    </tr>\n    <tr>\n      <th>36</th>\n      <td>36</td>\n      <td>The R Programming Environment</td>\n      <td>2.8</td>\n      <td>4 Reviews</td>\n      <td>Coursera</td>\n    </tr>\n    <tr>\n      <th>37</th>\n      <td>37</td>\n      <td>Developing Data Products</td>\n      <td>3.9</td>\n      <td>18 Reviews</td>\n      <td>Coursera</td>\n    </tr>\n    <tr>\n      <th>38</th>\n      <td>38</td>\n      <td>Data Science: Machine Learning</td>\n      <td>3.8</td>\n      <td>4 Reviews</td>\n      <td>edX</td>\n    </tr>\n    <tr>\n      <th>39</th>\n      <td>39</td>\n      <td>Statistical Thinking for Data Science and Anal...</td>\n      <td>2.2</td>\n      <td>19 Reviews</td>\n      <td>edX</td>\n    </tr>\n    <tr>\n      <th>40</th>\n      <td>40</td>\n      <td>Cluster Analysis in Data Mining</td>\n      <td>2.6</td>\n      <td>7 Reviews</td>\n      <td>Coursera</td>\n    </tr>\n    <tr>\n      <th>41</th>\n      <td>41</td>\n      <td>Data Science and Agile Systems for Product Man...</td>\n      <td>4.7</td>\n      <td>24 Reviews</td>\n      <td>edX</td>\n    </tr>\n    <tr>\n      <th>42</th>\n      <td>42</td>\n      <td>Pattern Discovery in Data Mining</td>\n      <td>2.1</td>\n      <td>21 Reviews</td>\n      <td>Coursera</td>\n    </tr>\n    <tr>\n      <th>43</th>\n      <td>43</td>\n      <td>Data Analysis for Social Scientists</td>\n      <td>3.2</td>\n      <td>13 Reviews</td>\n      <td>edX</td>\n    </tr>\n    <tr>\n      <th>44</th>\n      <td>44</td>\n      <td>Causal Diagrams: Draw Your Assumptions Before ...</td>\n      <td>5.0</td>\n      <td>3 Reviews</td>\n      <td>edX</td>\n    </tr>\n    <tr>\n      <th>45</th>\n      <td>45</td>\n      <td>Data Science: Visualization</td>\n      <td>4.7</td>\n      <td>3 Reviews</td>\n      <td>edX</td>\n    </tr>\n    <tr>\n      <th>46</th>\n      <td>46</td>\n      <td>High-Dimensional Data Analysis</td>\n      <td>3.7</td>\n      <td>3 Reviews</td>\n      <td>edX</td>\n    </tr>\n    <tr>\n      <th>47</th>\n      <td>47</td>\n      <td>Data Science: Linear Regression</td>\n      <td>2.3</td>\n      <td>3 Reviews</td>\n      <td>edX</td>\n    </tr>\n    <tr>\n      <th>48</th>\n      <td>48</td>\n      <td>Genome Sequencing (Bioinformatics II)</td>\n      <td>5.0</td>\n      <td>4 Reviews</td>\n      <td>Coursera</td>\n    </tr>\n    <tr>\n      <th>49</th>\n      <td>49</td>\n      <td>Building R Packages</td>\n      <td>3.0</td>\n      <td>2 Reviews</td>\n      <td>Coursera</td>\n    </tr>\n  </tbody>\n</table>\n</div>"
     },
     "metadata": {},
     "execution_count": 26
    }
   ],
   "source": [
    "DB"
   ]
  },
  {
   "cell_type": "code",
   "execution_count": null,
   "metadata": {},
   "outputs": [],
   "source": []
  }
 ]
}